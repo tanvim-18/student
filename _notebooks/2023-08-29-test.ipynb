{
 "cells": [
  {
   "cell_type": "code",
   "execution_count": null,
   "metadata": {},
   "outputs": [],
   "source": []
  },
  {
   "cell_type": "markdown",
   "metadata": {},
   "source": [
    "---\n",
    "toc: true\n",
    "comments: true\n",
    "layout: post\n",
    "title: change\n",
    "description: HIIIIII one with your tools.  They could be more important than code, code, code.\n",
    "type: hacks\n",
    "courses: { csse: {week: 2}, compsci: {week: 2, categories: [4.A]}, csa: {week: 2} }\n",
    "categories: [C1.4]\n",
    "---"
   ]
  }
 ],
 "metadata": {
  "language_info": {
   "name": "python"
  },
  "orig_nbformat": 4
 },
 "nbformat": 4,
 "nbformat_minor": 2
}
