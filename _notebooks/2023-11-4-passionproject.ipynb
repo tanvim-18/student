{
 "cells": [
  {
   "cell_type": "code",
   "execution_count": null,
   "metadata": {},
   "outputs": [],
   "source": []
  },
  {
   "cell_type": "markdown",
   "metadata": {},
   "source": [
    "<iframe src=\"raw.githubusercontent.com/nighthawkcoders/teacher/main/_notebooks/2023-10-22-P1_Procedures.ipynb\"></iframe>\n"
   ]
  }
 ],
 "metadata": {
  "language_info": {
   "name": "python"
  }
 },
 "nbformat": 4,
 "nbformat_minor": 2
}
