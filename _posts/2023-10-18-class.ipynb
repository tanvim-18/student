{
 "cells": [
  {
   "cell_type": "code",
   "execution_count": null,
   "metadata": {},
   "outputs": [],
   "source": [
    "%%js\n",
    "\n",
    "class studyTools{\n",
    "    constructor(flashcard, highlighter, calculator){\n",
    "        // 'this' here is used to say that this attribute belongs to this class\n",
    "        this.highlighter = highlighter;\n",
    "        this.flashcard = flashcard;\n",
    "        this.calculator = calulator;\n",
    "    }\n",
    "    \n",
    "    makeSound() {\n",
    "        console.log(this.sound);\n",
    "        // Additional code to make sound goes here\n",
    "    }\n",
    "\n",
    "}\n",
    "\n",
    "// define the variables we will pass into our cat class\n",
    "var furColor = \"Black\";\n",
    "var weight = 9;\n",
    "var breed = \"Bombay\"\n",
    "var sound = \"meow\"\n",
    "\n",
    "// to make a new cat you need to call new and pass \n",
    "// all of the variables that the cat constructor is expecting\n",
    "var cat = new Cat(furColor, weight, breed, sound);\n",
    "\n",
    "// call a class function\n",
    "cat.makeSound();"
   ]
  }
 ],
 "metadata": {
  "language_info": {
   "name": "python"
  }
 },
 "nbformat": 4,
 "nbformat_minor": 2
}
